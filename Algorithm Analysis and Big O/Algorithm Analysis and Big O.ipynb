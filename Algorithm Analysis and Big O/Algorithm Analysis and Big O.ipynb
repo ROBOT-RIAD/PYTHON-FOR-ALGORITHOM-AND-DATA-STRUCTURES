{
 "cells": [
  {
   "cell_type": "markdown",
   "id": "e7c10c99-c792-4d3b-becc-a95db39a64df",
   "metadata": {},
   "source": [
    "# Algorithm Analysis and Big O\n",
    "## Why analyze algorithms?\n",
    "\n",
    "1.Performance Evaluation: It helps in understanding the efficiency of algorithms in terms of time and space complexity. By analyzing algorithms, you can determine how much time and memory resources an algorithm requires to solve a problem. This information is essential for choosing the most appropriate algorithm for a given task, especially when dealing with large datasets or real-time systems where performance is critical.\n",
    "\n",
    "2.Comparison: Analysis allows for comparing different algorithms solving the same problem. It helps in identifying which algorithm performs better under various conditions and constraints. This comparison is essential for selecting the most suitable algorithm for specific applications.\n",
    "\n",
    "3.Optimization: Analysis of algorithms can reveal opportunities for optimization. By understanding the underlying operations and resource usage, one can identify parts of the algorithm that can be improved or replaced with more efficient alternatives.\n",
    "\n",
    "4. Algorithm Design: Analyzing algorithms provides insights into their design principles and strategies. It helps in developing new algorithms or modifying existing ones to address specific requirements or constraints.\n",
    "\n",
    "5. Predictive Power: It enables predicting the behavior of algorithms as the problem size grows. This predictive capability is valuable for estimating the scalability of algorithms and understanding their performance characteristics in different scenarios.\n",
    "\n",
    "\n",
    "6. Theoretical Foundation: Algorithm analysis is a fundamental part of computer science theory. It provides a theoretical foundation for understanding the capabilities and limitations of algorithms, which is essential for advancing the field and developing new computational techniques."
   ]
  },
  {
   "cell_type": "code",
   "execution_count": 1,
   "id": "be2fcdcd-68df-4a70-85d0-a51ffc16c443",
   "metadata": {},
   "outputs": [],
   "source": [
    "def sum1(n):\n",
    "    final_sum =0\n",
    "    for x in range(n+1):\n",
    "        final_sum+=x\n",
    "    return final_sum"
   ]
  },
  {
   "cell_type": "code",
   "execution_count": 3,
   "id": "c983b99b-c6f0-4155-85e1-ab9fb2ec19e7",
   "metadata": {},
   "outputs": [
    {
     "data": {
      "text/plain": [
       "55"
      ]
     },
     "execution_count": 3,
     "metadata": {},
     "output_type": "execute_result"
    }
   ],
   "source": [
    "sum1(10)"
   ]
  },
  {
   "cell_type": "code",
   "execution_count": 4,
   "id": "8e5407a5-4ae5-48b6-8a75-634a5b9dbb81",
   "metadata": {},
   "outputs": [],
   "source": [
    "def sum2(n):\n",
    "    return (n*(n+1))/2"
   ]
  },
  {
   "cell_type": "code",
   "execution_count": 5,
   "id": "78d85226-314d-481d-9f57-b7c8d77cfc22",
   "metadata": {},
   "outputs": [
    {
     "data": {
      "text/plain": [
       "55.0"
      ]
     },
     "execution_count": 5,
     "metadata": {},
     "output_type": "execute_result"
    }
   ],
   "source": [
    "sum2(10)"
   ]
  },
  {
   "cell_type": "code",
   "execution_count": 6,
   "id": "72cd57c8-90fb-4f7f-9e50-12ca3eb6a990",
   "metadata": {},
   "outputs": [
    {
     "name": "stdout",
     "output_type": "stream",
     "text": [
      "4.43 µs ± 712 ns per loop (mean ± std. dev. of 7 runs, 100,000 loops each)\n"
     ]
    }
   ],
   "source": [
    "%timeit sum1(100)"
   ]
  },
  {
   "cell_type": "code",
   "execution_count": 7,
   "id": "6cde3173-eac1-401b-9ca9-91f5d9bc25c4",
   "metadata": {},
   "outputs": [
    {
     "name": "stdout",
     "output_type": "stream",
     "text": [
      "128 ns ± 7.81 ns per loop (mean ± std. dev. of 7 runs, 10,000,000 loops each)\n"
     ]
    }
   ],
   "source": [
    "%timeit sum2(100)"
   ]
  },
  {
   "cell_type": "markdown",
   "id": "9acbc4f4-7444-4d9c-ab10-0bfc4542b4c8",
   "metadata": {},
   "source": [
    "\n",
    "You'll notice both functions have the same result, but completely different algorithms. You'll note that the first function iteratively adds the numbers, while the second function makes use of:\n",
    "\n",
    "$$sum =(n(n+1))/2$$\n",
    "\n",
    "So how can we objectively compare the algorithms? We could compare the amount of space they take in memory or we could also compare how much time it takes each function to run. We can use the built in %timeit magic function in jupyter to compare the time of the functions. The %timeit magic in Jupyter Notebooks will repeat the loop iteration a certain number of times and take the best result. Check out the link for the documentation."
   ]
  }
 ],
 "metadata": {
  "kernelspec": {
   "display_name": "Python 3 (ipykernel)",
   "language": "python",
   "name": "python3"
  },
  "language_info": {
   "codemirror_mode": {
    "name": "ipython",
    "version": 3
   },
   "file_extension": ".py",
   "mimetype": "text/x-python",
   "name": "python",
   "nbconvert_exporter": "python",
   "pygments_lexer": "ipython3",
   "version": "3.12.2"
  }
 },
 "nbformat": 4,
 "nbformat_minor": 5
}
