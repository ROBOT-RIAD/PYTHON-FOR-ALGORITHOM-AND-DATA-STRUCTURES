{
 "cells": [
  {
   "cell_type": "markdown",
   "id": "f518dc9a-6d83-4b62-9d9b-67a599d0380f",
   "metadata": {},
   "source": [
    "# Big O Examples\n"
   ]
  },
  {
   "cell_type": "markdown",
   "id": "941d71d6-6611-4abc-b4b2-c437d1998cf3",
   "metadata": {},
   "source": [
    "# O(1) Constant"
   ]
  },
  {
   "cell_type": "code",
   "execution_count": 1,
   "id": "1792894f-7370-4273-ba00-4f56744a01e4",
   "metadata": {},
   "outputs": [
    {
     "name": "stdout",
     "output_type": "stream",
     "text": [
      "1\n"
     ]
    }
   ],
   "source": [
    "def constantfun(values):\n",
    "    print(values[0])\n",
    "\n",
    "\n",
    "constantfun([1,2,3])"
   ]
  },
  {
   "cell_type": "markdown",
   "id": "6f7a2610-2e44-424c-b0b8-da8bc373e99a",
   "metadata": {},
   "source": [
    "# O(n) Linear"
   ]
  },
  {
   "cell_type": "code",
   "execution_count": 2,
   "id": "8d09def0-1c21-4f50-89d0-e8a0aacd081d",
   "metadata": {},
   "outputs": [
    {
     "name": "stdout",
     "output_type": "stream",
     "text": [
      "1\n",
      "2\n",
      "3\n"
     ]
    }
   ],
   "source": [
    "def linearfun(lst):\n",
    "    for i in lst:\n",
    "        print(i)\n",
    "linearfun([1,2,3])"
   ]
  },
  {
   "cell_type": "markdown",
   "id": "d7583ad0-f631-4594-8bde-b535ae6b805e",
   "metadata": {},
   "source": [
    "#  O(n^2) Quadratic"
   ]
  },
  {
   "cell_type": "code",
   "execution_count": 2,
   "id": "b5103c16-657d-4432-a6c7-114e8e4ab0a2",
   "metadata": {},
   "outputs": [
    {
     "name": "stdout",
     "output_type": "stream",
     "text": [
      "0 0\n",
      "0 1\n",
      "0 2\n",
      "1 0\n",
      "1 1\n",
      "1 2\n",
      "2 0\n",
      "2 1\n",
      "2 2\n"
     ]
    }
   ],
   "source": [
    "def Quad_fun(lst):\n",
    "    for item in lst:\n",
    "        for item_1 in lst:\n",
    "            print(item,item_1)\n",
    "lst = [0,1,2]\n",
    "Quad_fun(lst)"
   ]
  },
  {
   "cell_type": "markdown",
   "id": "e7900cf2-7a26-4da9-a5f0-8ca2c7aa2df4",
   "metadata": {},
   "source": [
    "# Calculating Scale of Big-O"
   ]
  },
  {
   "cell_type": "code",
   "execution_count": 3,
   "id": "fee56f6f-4ee4-4d27-9efc-e45f29edf32c",
   "metadata": {},
   "outputs": [
    {
     "name": "stdout",
     "output_type": "stream",
     "text": [
      "0\n",
      "1\n",
      "2\n",
      "0\n",
      "1\n",
      "2\n",
      "0\n",
      "1\n",
      "2\n"
     ]
    }
   ],
   "source": [
    "def print_3(lst):\n",
    "    for val in lst:\n",
    "        print(val)\n",
    "        \n",
    "    for val in lst:\n",
    "        print (val)\n",
    "        \n",
    "    for val in lst:\n",
    "        print (val)\n",
    "\n",
    "print_3(lst)"
   ]
  },
  {
   "cell_type": "code",
   "execution_count": 7,
   "id": "0de0470e-8ecd-470b-bb90-98bbd8e02ebc",
   "metadata": {},
   "outputs": [],
   "source": [
    "def comp(lst):\n",
    "    print(lst[0])\n",
    "    midpoint =len(lst)//2\n",
    "    for val in lst[:midpoint]:\n",
    "        print(val)"
   ]
  },
  {
   "cell_type": "code",
   "execution_count": 9,
   "id": "999ec278-2688-49f7-b776-2ce4d3f822e3",
   "metadata": {
    "scrolled": true
   },
   "outputs": [
    {
     "name": "stdout",
     "output_type": "stream",
     "text": [
      "0\n",
      "0\n",
      "1\n",
      "2\n"
     ]
    }
   ],
   "source": [
    "lst = [0,1,2,4,5,6,7]\n",
    "comp(lst)"
   ]
  },
  {
   "cell_type": "markdown",
   "id": "2d13397b-fbc3-489a-990e-32117fbed5de",
   "metadata": {},
   "source": [
    "# Worst Case vs Best Case\n"
   ]
  },
  {
   "cell_type": "code",
   "execution_count": null,
   "id": "d6ed8791-9a1a-40c9-82fd-2046a170bc9a",
   "metadata": {},
   "outputs": [],
   "source": [
    "def matcher(lst,match):\n",
    "    for item in lst:\n",
    "        if item == match:\n",
    "            return True\n",
    "    return False"
   ]
  },
  {
   "cell_type": "markdown",
   "id": "d3a466d9-50fd-47c9-a33c-bcc3889dd9eb",
   "metadata": {},
   "source": [
    "# Space Complexity"
   ]
  },
  {
   "cell_type": "code",
   "execution_count": null,
   "id": "69300fb9-581c-4b54-888d-d230c895f85f",
   "metadata": {},
   "outputs": [],
   "source": [
    "def printer(n=10):\n",
    "    for x in range(n):\n",
    "        print('Hello World!')"
   ]
  }
 ],
 "metadata": {
  "kernelspec": {
   "display_name": "Python 3 (ipykernel)",
   "language": "python",
   "name": "python3"
  },
  "language_info": {
   "codemirror_mode": {
    "name": "ipython",
    "version": 3
   },
   "file_extension": ".py",
   "mimetype": "text/x-python",
   "name": "python",
   "nbconvert_exporter": "python",
   "pygments_lexer": "ipython3",
   "version": "3.12.2"
  }
 },
 "nbformat": 4,
 "nbformat_minor": 5
}
