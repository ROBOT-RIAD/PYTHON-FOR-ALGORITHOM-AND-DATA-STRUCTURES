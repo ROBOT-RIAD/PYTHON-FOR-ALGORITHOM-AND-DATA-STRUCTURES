{
 "cells": [
  {
   "cell_type": "markdown",
   "id": "b4f395c7-5241-4b09-887d-fc6bd03e6d83",
   "metadata": {},
   "source": [
    "# Lists\n",
    "In Python lists act as dynamic arrays and support a number of common operations through methods called on them. The two most common operations performed on a list are indexing and assigning to an index position. These operations are both designed to be run in constant time, O(1)."
   ]
  },
  {
   "cell_type": "code",
   "execution_count": 2,
   "id": "44436af6-910f-467a-9f85-f387e2d47156",
   "metadata": {},
   "outputs": [
    {
     "name": "stdout",
     "output_type": "stream",
     "text": [
      "185 ms ± 27.2 ms per loop (mean ± std. dev. of 7 runs, 1 loop each)\n",
      "453 µs ± 51.9 µs per loop (mean ± std. dev. of 7 runs, 1,000 loops each)\n",
      "334 µs ± 27.4 µs per loop (mean ± std. dev. of 7 runs, 1,000 loops each)\n"
     ]
    }
   ],
   "source": [
    "def method1():\n",
    "    l = []\n",
    "    for n in range(10000):\n",
    "        l = l + [n]\n",
    "\n",
    "def method2():\n",
    "    l = []\n",
    "    for n in range(10000):\n",
    "        l.append(n)\n",
    "\n",
    "def method3():\n",
    "    l = [n for n in range(10000)]\n",
    "\n",
    "%timeit method1()\n",
    "%timeit method2()\n",
    "%timeit method3()\n"
   ]
  },
  {
   "cell_type": "markdown",
   "id": "530ea2ac-8baa-49e6-a658-7eb40932c547",
   "metadata": {},
   "source": [
    "\n",
    "We can clearly see that the most effective method is the built-in range() function in Python!\n",
    "\n",
    "It is important to keep these factors in mind when writing efficient code. More importantly begin thinking about how we are able to index with O(1). We will discuss this in more detail when we cover arrays general. For now, take a look at the table below for an overview of Big-O efficiencies."
   ]
  },
  {
   "cell_type": "markdown",
   "id": "0af978be-36a6-4ae7-99f9-1acc03d3ffdd",
   "metadata": {},
   "source": [
    "# Table of Big-O for common list operations"
   ]
  },
  {
   "cell_type": "markdown",
   "id": "4d748f6d-6f50-4cb7-91d5-8f6dc05aa2f4",
   "metadata": {},
   "source": [
    "| Operation        | Big-O Efficiency |\n",
    "|------------------|------------------|\n",
    "| index []         | O(1)             |\n",
    "| index assignment | O(1)             |\n",
    "| append           | O(1)             |\n",
    "| pop()            | O(1)             |\n",
    "| pop(i)           | O(n)             |\n",
    "| insert(i, item)  | O(n)             |\n",
    "| del operator     | O(n)             |\n",
    "| iteration        | O(n)             |\n",
    "| contains (in)    | O(n)             |\n",
    "| get slice [x:y]  | O(k)             |\n",
    "| del slice        | O(n)             |\n",
    "| set slice        | O(n+k)           |\n",
    "| reverse          | O(n)             |\n",
    "| concatenate      | O(k)             |\n",
    "| sort             | O(n log n)       |\n",
    "| multiply         | O(nk)            |\n"
   ]
  },
  {
   "cell_type": "markdown",
   "id": "dddb77c1-b8e6-4c03-813d-3787f0cfe999",
   "metadata": {},
   "source": [
    "# Dictionaries\n",
    "Dictionaries in Python are an implementation of a hash table. They operate with keys and values, for example:"
   ]
  },
  {
   "cell_type": "code",
   "execution_count": null,
   "id": "3e9ca529-a554-41e6-a659-857d7a3e8745",
   "metadata": {},
   "outputs": [],
   "source": [
    "\n",
    "dic = {'k1':1,'k2':2}"
   ]
  },
  {
   "cell_type": "markdown",
   "id": "0c9b6de5-bd05-4ee9-a0a8-92ae99f894f9",
   "metadata": {},
   "source": [
    "Operation\tBig-O Efficiency\n",
    "copy\tO(n)\n",
    "get item\tO(1)\n",
    "set item\tO(1)\n",
    "delete item\tO(1)\n",
    "contains (in)\tO(1)\n",
    "iteration\tO(n)"
   ]
  },
  {
   "cell_type": "code",
   "execution_count": null,
   "id": "7b1b0188-97c2-4fcc-b5f3-42bc04d92051",
   "metadata": {},
   "outputs": [],
   "source": []
  }
 ],
 "metadata": {
  "kernelspec": {
   "display_name": "Python 3 (ipykernel)",
   "language": "python",
   "name": "python3"
  },
  "language_info": {
   "codemirror_mode": {
    "name": "ipython",
    "version": 3
   },
   "file_extension": ".py",
   "mimetype": "text/x-python",
   "name": "python",
   "nbconvert_exporter": "python",
   "pygments_lexer": "ipython3",
   "version": "3.12.2"
  }
 },
 "nbformat": 4,
 "nbformat_minor": 5
}
