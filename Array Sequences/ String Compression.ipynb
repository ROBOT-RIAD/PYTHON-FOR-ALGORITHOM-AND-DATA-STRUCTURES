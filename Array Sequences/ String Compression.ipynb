{
 "cells": [
  {
   "cell_type": "markdown",
   "id": "0358ecc4-737e-40b8-8732-2d66d3c0c099",
   "metadata": {},
   "source": [
    "Problem\n",
    "Given a string in the form 'AAAABBBBCCCCCDDEEEE' compress it to become 'A4B4C5D2E4'. For this problem, you can falsely \"compress\" strings of single or double letters. For instance, it is okay for 'AAB' to return 'A2B1' even though this technically takes more space.\n",
    "\n",
    "The function should also be case sensitive, so that a string 'AAAaaa' returns 'A3a3'."
   ]
  },
  {
   "cell_type": "markdown",
   "id": "cfe605e9-7088-4db6-966c-bd86a65aa5fa",
   "metadata": {},
   "source": [
    "Solution\n",
    "\n",
    "Since Python strings are immutable, we'll need to work off of a list of characters, and at the end convert that list back into a string with a join statement.\n",
    "\n",
    "The solution below should yield us with a Time and Space complexity of O(n). Let's take a look with careful attention to the explanatory comments:\n"
   ]
  },
  {
   "cell_type": "code",
   "execution_count": 4,
   "id": "fbbdeb62-4b04-417d-9a27-300064d6b4b1",
   "metadata": {},
   "outputs": [
    {
     "data": {
      "text/plain": [
       "'A5B4C4'"
      ]
     },
     "execution_count": 4,
     "metadata": {},
     "output_type": "execute_result"
    }
   ],
   "source": [
    "def cpmpresion(s):\n",
    "    r =\"\"\n",
    "    l =len(s)\n",
    "    \n",
    "    if l==0:\n",
    "        return \"\"\n",
    "    if l==1:\n",
    "        return s+\"1\"\n",
    "    count =1\n",
    "    i=1\n",
    "    while i<l:\n",
    "        if s[i] == s[i-1]:\n",
    "            count+=1\n",
    "        else:\n",
    "            r=r+s[i-1]+str(count)\n",
    "            count=1\n",
    "        i+=1\n",
    "    r=r+s[i-1]+str(count)\n",
    "    return r\n",
    "cpmpresion('AAAAABBBBCCCC')\n"
   ]
  },
  {
   "cell_type": "code",
   "execution_count": 7,
   "id": "41c2c8ba-5e0b-4829-8619-70bc18141e49",
   "metadata": {},
   "outputs": [
    {
     "name": "stderr",
     "output_type": "stream",
     "text": [
      "test_compression (__main__.TestCompression.test_compression) ... ok\n",
      "\n",
      "----------------------------------------------------------------------\n",
      "Ran 1 test in 0.003s\n",
      "\n",
      "OK\n"
     ]
    }
   ],
   "source": [
    "import unittest\n",
    "def compression(s):\n",
    "    r = \"\"\n",
    "    l = len(s)\n",
    "    \n",
    "    if l == 0:\n",
    "        return \"\"\n",
    "    if l == 1:\n",
    "        return s + \"1\"\n",
    "    \n",
    "    count = 1\n",
    "    i = 1\n",
    "    \n",
    "    while i < l:\n",
    "        if s[i] == s[i - 1]:\n",
    "            count += 1\n",
    "        else:\n",
    "            r = r + s[i - 1] + str(count)\n",
    "            count = 1\n",
    "        i += 1\n",
    "    \n",
    "    r = r + s[i - 1] + str(count)\n",
    "    return r\n",
    "\n",
    "\n",
    "class TestCompression(unittest.TestCase):\n",
    "    \n",
    "    def test_compression(self):\n",
    "        self.assertEqual(compression('AAAAABBBBCCCC'), 'A5B4C4')\n",
    "        self.assertEqual(compression('AABBA'), 'A2B2A1')\n",
    "        self.assertEqual(compression(''), '')\n",
    "        self.assertEqual(compression('A'), 'A1')\n",
    "        self.assertEqual(compression('AB'), 'A1B1')\n",
    "        self.assertEqual(compression('AAABBBCCCAAA'), 'A3B3C3A3')\n",
    "        self.assertEqual(compression('AABBCC'), 'A2B2C2')\n",
    "        self.assertEqual(compression('ABC'), 'A1B1C1')\n",
    "\n",
    "if __name__ == '__main__':\n",
    "    unittest.main(argv=[''], verbosity=2, exit=False)\n"
   ]
  },
  {
   "cell_type": "code",
   "execution_count": null,
   "id": "8a78c885-7434-4bed-830a-53c892cb4b47",
   "metadata": {},
   "outputs": [],
   "source": []
  }
 ],
 "metadata": {
  "kernelspec": {
   "display_name": "Python 3 (ipykernel)",
   "language": "python",
   "name": "python3"
  },
  "language_info": {
   "codemirror_mode": {
    "name": "ipython",
    "version": 3
   },
   "file_extension": ".py",
   "mimetype": "text/x-python",
   "name": "python",
   "nbconvert_exporter": "python",
   "pygments_lexer": "ipython3",
   "version": "3.12.2"
  }
 },
 "nbformat": 4,
 "nbformat_minor": 5
}
