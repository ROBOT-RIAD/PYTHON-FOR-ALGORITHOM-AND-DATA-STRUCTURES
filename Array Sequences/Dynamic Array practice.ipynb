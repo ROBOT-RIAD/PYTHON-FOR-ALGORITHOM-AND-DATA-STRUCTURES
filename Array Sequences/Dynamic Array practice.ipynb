{
 "cells": [
  {
   "cell_type": "markdown",
   "id": "7406118a-ba74-41a1-86fd-1ef528d0e93b",
   "metadata": {},
   "source": [
    "# Dynamic Array Exercise"
   ]
  },
  {
   "cell_type": "markdown",
   "id": "affeb50c-03e3-4367-8d98-aeac87d7b0f3",
   "metadata": {},
   "source": [
    "In this exercise we will create our own Dynamic Array class!\n",
    "\n",
    "A quick note on public vs private methods, we can use an underscore _ before the method name to keep it non-public. For example:"
   ]
  },
  {
   "cell_type": "code",
   "execution_count": 7,
   "id": "cb48ecfc-5861-48f6-aedb-7fcd1ed99b2f",
   "metadata": {},
   "outputs": [],
   "source": [
    "class array(object):\n",
    "    def public(self):\n",
    "        print(\"use tab to see me\")\n",
    "    def _private(self):\n",
    "        print(\"you won't be able\")\n"
   ]
  },
  {
   "cell_type": "code",
   "execution_count": 8,
   "id": "31d868e7-5e16-46e5-9048-de8e149f384e",
   "metadata": {},
   "outputs": [],
   "source": [
    "m = array()"
   ]
  },
  {
   "cell_type": "code",
   "execution_count": 9,
   "id": "0120c767-8280-481e-80f0-39aaba591361",
   "metadata": {},
   "outputs": [
    {
     "name": "stdout",
     "output_type": "stream",
     "text": [
      "you won't be able\n"
     ]
    }
   ],
   "source": [
    "m._private() "
   ]
  },
  {
   "cell_type": "code",
   "execution_count": 10,
   "id": "225a75b6-3d98-4bd1-929e-746feb9c3d74",
   "metadata": {},
   "outputs": [
    {
     "name": "stdout",
     "output_type": "stream",
     "text": [
      "use tab to see me\n"
     ]
    }
   ],
   "source": [
    "m.public()"
   ]
  },
  {
   "cell_type": "markdown",
   "id": "fdef4586-4d4d-4d43-91c1-86e413253c07",
   "metadata": {},
   "source": [
    "Dynamic Array Implementation"
   ]
  },
  {
   "cell_type": "code",
   "execution_count": 17,
   "id": "51152b00-2952-443c-86ab-74aefcbccbda",
   "metadata": {},
   "outputs": [
    {
     "name": "stdout",
     "output_type": "stream",
     "text": [
      "1\n",
      "1\n"
     ]
    }
   ],
   "source": [
    "import ctypes\n",
    "\n",
    "class DynamicArray(object):\n",
    "    \n",
    "    # define constructor \n",
    "    def __init__(self):\n",
    "        self.n = 0\n",
    "        self.capacity = 1\n",
    "        self.arr = self.make_arr(self.capacity)\n",
    "        \n",
    "    # array length   \n",
    "    def __len__(self):\n",
    "        return self.n\n",
    "\n",
    "    # get element\n",
    "    def __getitem__(self, k):\n",
    "        if not 0 <= k < self.n:\n",
    "            return IndexError('K is out of bounds!')\n",
    "        return self.arr[k]\n",
    "\n",
    "    # create new array\n",
    "    def make_arr(self, new_capacity):\n",
    "        return (new_capacity * ctypes.py_object)()\n",
    "    \n",
    "    # resize array\n",
    "    def _resize(self, new_capacity):\n",
    "        brr = self.make_arr(new_capacity)\n",
    "        for i in range(self.n):\n",
    "            brr[i] = self.arr[i]\n",
    "        self.arr = brr\n",
    "        self.capacity = new_capacity\n",
    "    \n",
    "    # append element\n",
    "    def append(self, val):\n",
    "        if self.n == self.capacity:\n",
    "            self._resize(2 * self.capacity)\n",
    "        self.arr[self.n] = val\n",
    "        self.n += 1\n",
    "\n",
    "a = DynamicArray()\n",
    "a.append(1)\n",
    "print(len(a))\n",
    "print(a[0])\n"
   ]
  }
 ],
 "metadata": {
  "kernelspec": {
   "display_name": "Python 3 (ipykernel)",
   "language": "python",
   "name": "python3"
  },
  "language_info": {
   "codemirror_mode": {
    "name": "ipython",
    "version": 3
   },
   "file_extension": ".py",
   "mimetype": "text/x-python",
   "name": "python",
   "nbconvert_exporter": "python",
   "pygments_lexer": "ipython3",
   "version": "3.12.2"
  }
 },
 "nbformat": 4,
 "nbformat_minor": 5
}
