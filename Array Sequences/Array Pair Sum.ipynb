{
 "cells": [
  {
   "cell_type": "markdown",
   "id": "8252eba8-b78c-4914-960f-b5a63e6ccc62",
   "metadata": {},
   "source": [
    "# Array Pair Sum"
   ]
  },
  {
   "cell_type": "markdown",
   "id": "e956843d-fb95-4c06-8f6a-6bb694c6a758",
   "metadata": {},
   "source": [
    "\n",
    "Array Pair Sum\n",
    "Problem\n",
    "Given an integer array, output all the ** unique ** pairs that sum up to a specific value k.\n",
    "\n",
    "So the input:\n",
    "\n",
    "pair_sum([1,3,2,2],4)\n",
    "would return 2 pairs:\n",
    "\n",
    " (1,3)\n",
    " (2,2)\n",
    "NOTE: FOR TESTING PURPOSES< CHANGE YOUR FUNCTION SO IT OUTPUTS THE NUMBER OF PAIRS\n",
    "\n",
    "  Solution\n",
    "The O(N) algorithm uses the set data structure. We perform a linear pass from the beginning and for each element we check whether k-element is in the set of seen numbers. If it is, then we found a pair of sum k and add it to the output. If not, this element doesn’t belong to a pair yet, and we add it to the set of seen elements.\n",
    "\n",
    "The algorithm is really simple once we figure out using a set. The complexity is O(N) because we do a single linear scan of the array, and for each element we just check whether the corresponding number to form a pair is in the set or add the current element to the set. Insert and find operations of a set are both average O(1), so the algorithm is O(N) in total.  "
   ]
  },
  {
   "cell_type": "code",
   "execution_count": 5,
   "id": "2594e99e-bcaf-4d4e-9a1c-7b6e2e2e8430",
   "metadata": {},
   "outputs": [
    {
     "name": "stdout",
     "output_type": "stream",
     "text": [
      "(1, 3) (2, 2)\n"
     ]
    }
   ],
   "source": [
    "def pair_sum(arr, k):\n",
    "    if len(arr) < 2:\n",
    "        return\n",
    "    \n",
    "    seen = set()\n",
    "    output = set()\n",
    "    \n",
    "    for num in arr:\n",
    "        target = k - num\n",
    "        if target not in seen:\n",
    "            seen.add(num)\n",
    "        else:\n",
    "            output.add((min(num, target), max(num, target)))\n",
    "    \n",
    "    return output\n",
    "\n",
    "result = pair_sum([1, 3, 2, 2], 4)\n",
    "print(' '.join(map(str, list(result))))\n"
   ]
  },
  {
   "cell_type": "code",
   "execution_count": null,
   "id": "512a3fe8-151b-4090-96fd-5b2b63b48264",
   "metadata": {},
   "outputs": [],
   "source": []
  }
 ],
 "metadata": {
  "kernelspec": {
   "display_name": "Python 3 (ipykernel)",
   "language": "python",
   "name": "python3"
  },
  "language_info": {
   "codemirror_mode": {
    "name": "ipython",
    "version": 3
   },
   "file_extension": ".py",
   "mimetype": "text/x-python",
   "name": "python",
   "nbconvert_exporter": "python",
   "pygments_lexer": "ipython3",
   "version": "3.12.2"
  }
 },
 "nbformat": 4,
 "nbformat_minor": 5
}
