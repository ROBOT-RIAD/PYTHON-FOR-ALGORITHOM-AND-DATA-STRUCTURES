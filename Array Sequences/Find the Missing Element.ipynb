{
 "cells": [
  {
   "cell_type": "markdown",
   "id": "40f78cf3-4936-4b8e-bb1a-ff4316272450",
   "metadata": {},
   "source": [
    "# Find the Missing Element"
   ]
  },
  {
   "cell_type": "markdown",
   "id": "f9e688ee-adf2-4ddf-bed3-4ca92a37c623",
   "metadata": {},
   "source": [
    "Problem\n",
    "Consider an array of non-negative integers. A second array is formed by shuffling the elements of the first array and deleting a random element. Given these two arrays, find which element is missing in the second array.\n",
    "\n",
    "Here is an example input, the first array is shuffled and the number 5 is removed to construct the second array.\n",
    "\n",
    "Input:\n",
    "\n",
    "finder([1,2,3,4,5,6,7],[3,7,2,1,4,6])\n",
    "Output:\n",
    "\n",
    "5 is the missing number"
   ]
  },
  {
   "cell_type": "markdown",
   "id": "e1c5cff6-2ded-46f3-aed0-3009e8199529",
   "metadata": {},
   "source": [
    "Solution\n",
    "The naive solution is go through every element in the second array and check whether it appears in the first array. Note that there may be duplicate elements in the arrays so we should pay special attention to it. The complexity of this approach is O(N^2), since we would need two for loops.\n",
    "\n",
    "A more efficient solution is to sort the first array, so while checking whether an element in the first array appears in the second, we can do binary search (we'll learn about binary search in more detail in a future section). But we should still be careful about duplicate elements. The complexity is O(NlogN).\n",
    "\n",
    "If we don’t want to deal with the special case of duplicate numbers, we can sort both arrays and iterate over them simultaneously. Once two iterators have different values we can stop. The value of the first iterator is the missing element. This solution is also O(NlogN). Here is the solution for this approach:"
   ]
  },
  {
   "cell_type": "code",
   "execution_count": 3,
   "id": "e9d73f28-559f-4ba2-b9f0-7bc308b9ab29",
   "metadata": {},
   "outputs": [
    {
     "data": {
      "text/plain": [
       "5"
      ]
     },
     "execution_count": 3,
     "metadata": {},
     "output_type": "execute_result"
    }
   ],
   "source": [
    "def finder(arr1,arr2):\n",
    "    arr1.sort()\n",
    "    arr2.sort()\n",
    "    for num1,num2 in zip(arr1,arr2):\n",
    "        if num1!=num2:\n",
    "            return num1\n",
    "    return arr1[-1]\n",
    "\n",
    "\n",
    "arr1 = [1,2,3,4,5,6,7]\n",
    "arr2 = [3,7,2,1,4,6]\n",
    "finder(arr1,arr2)"
   ]
  },
  {
   "cell_type": "markdown",
   "id": "7821015b-1b9c-4fa6-8458-f86957ddaa46",
   "metadata": {},
   "source": [
    "# linear solution"
   ]
  },
  {
   "cell_type": "code",
   "execution_count": 5,
   "id": "86195a90-21a3-47ec-a436-1bbf0d216b87",
   "metadata": {},
   "outputs": [
    {
     "data": {
      "text/plain": [
       "5"
      ]
     },
     "execution_count": 5,
     "metadata": {},
     "output_type": "execute_result"
    }
   ],
   "source": [
    "import collections\n",
    "\n",
    "def finder2(arr1,arr2):\n",
    "    dic =collections.defaultdict(int)\n",
    "    for num in arr2:\n",
    "        dic[num]+=1\n",
    "    for num in arr1:\n",
    "        if dic[num]==0:\n",
    "            return num\n",
    "        else:\n",
    "            dic[num]-=1\n",
    "\n",
    "arr1 = [5,5,7,7]\n",
    "arr2 = [5,7,7]\n",
    "\n",
    "finder2(arr1,arr2)"
   ]
  },
  {
   "cell_type": "code",
   "execution_count": 6,
   "id": "479f56ba-5c63-49ab-98eb-6c046697dda1",
   "metadata": {},
   "outputs": [
    {
     "data": {
      "text/plain": [
       "[5, 5, 7, 7, 5, 7, 7]"
      ]
     },
     "execution_count": 6,
     "metadata": {},
     "output_type": "execute_result"
    }
   ],
   "source": [
    "arr1 = [5,5,7,7]\n",
    "arr2 = [5,7,7]\n",
    "arr1+arr2"
   ]
  },
  {
   "cell_type": "markdown",
   "id": "1c60f815-c392-4701-a7f2-e07d8cbde4d8",
   "metadata": {},
   "source": [
    "# xor technic"
   ]
  },
  {
   "cell_type": "code",
   "execution_count": 7,
   "id": "29253b7b-cd06-40fa-9e94-896ffb0513e0",
   "metadata": {},
   "outputs": [
    {
     "data": {
      "text/plain": [
       "5"
      ]
     },
     "execution_count": 7,
     "metadata": {},
     "output_type": "execute_result"
    }
   ],
   "source": [
    "def finder3(arr1,arr2):\n",
    "    ans =0\n",
    "    for num in arr1+arr2:\n",
    "        ans^=num\n",
    "    return ans\n",
    "\n",
    "arr1 = [5,5,7,7]\n",
    "arr2 = [5,7,7]\n",
    "\n",
    "finder3(arr1,arr2)"
   ]
  },
  {
   "cell_type": "markdown",
   "id": "5d4a24a5-60b4-4d39-808a-32c5005f18f3",
   "metadata": {},
   "source": [
    "# Test solution"
   ]
  },
  {
   "cell_type": "code",
   "execution_count": 14,
   "id": "5937160b-f0fb-415d-8424-7a211a9f5687",
   "metadata": {},
   "outputs": [
    {
     "name": "stderr",
     "output_type": "stream",
     "text": [
      ".\n",
      "----------------------------------------------------------------------\n",
      "Ran 1 test in 0.003s\n",
      "\n",
      "OK\n"
     ]
    },
    {
     "data": {
      "text/plain": [
       "<unittest.runner.TextTestResult run=1 errors=0 failures=0>"
      ]
     },
     "execution_count": 14,
     "metadata": {},
     "output_type": "execute_result"
    }
   ],
   "source": [
    "import unittest\n",
    "\n",
    "def finder3(arr1, arr2):\n",
    "    ans = 0\n",
    "    for num in arr1 + arr2:\n",
    "        ans ^= num\n",
    "    return ans\n",
    "\n",
    "class TestFinder(unittest.TestCase):\n",
    "    \n",
    "    def test_finder3(self):\n",
    "        self.assertEqual(finder3([5, 5, 7, 7], [5, 7, 7]), 5)\n",
    "        self.assertEqual(finder3([1, 2, 3, 4, 5, 6, 7], [3, 7, 2, 1, 4, 6]), 5)\n",
    "        self.assertEqual(finder3([9, 8, 7, 6, 5, 4, 3, 2, 1], [9, 8, 7, 5, 4, 3, 2, 1]), 6)\n",
    "\n",
    "# Create a test suite combining all the test cases\n",
    "suite = unittest.TestLoader().loadTestsFromTestCase(TestFinder)\n",
    "\n",
    "# Run the test suite\n",
    "unittest.TextTestRunner().run(suite)\n"
   ]
  },
  {
   "cell_type": "code",
   "execution_count": null,
   "id": "a557c20e-a6ec-45f3-bc07-b1743eb793c3",
   "metadata": {},
   "outputs": [],
   "source": []
  }
 ],
 "metadata": {
  "kernelspec": {
   "display_name": "Python 3 (ipykernel)",
   "language": "python",
   "name": "python3"
  },
  "language_info": {
   "codemirror_mode": {
    "name": "ipython",
    "version": 3
   },
   "file_extension": ".py",
   "mimetype": "text/x-python",
   "name": "python",
   "nbconvert_exporter": "python",
   "pygments_lexer": "ipython3",
   "version": "3.12.2"
  }
 },
 "nbformat": 4,
 "nbformat_minor": 5
}
