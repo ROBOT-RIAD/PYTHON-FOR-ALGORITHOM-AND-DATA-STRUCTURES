{
 "cells": [
  {
   "cell_type": "markdown",
   "id": "61eb1b00-0b1b-4cc2-85b1-1fa855d77852",
   "metadata": {},
   "source": [
    "# Sentence Reversal"
   ]
  },
  {
   "cell_type": "markdown",
   "id": "36dc41ad-ff26-428d-8948-d7496937db26",
   "metadata": {},
   "source": [
    "Problem\n",
    "Given a string of words, reverse all the words. For example:\n",
    "\n",
    "Given:\n",
    "\n",
    "'This is the best'\n",
    "Return:\n",
    "\n",
    "'best the is This'\n",
    "As part of this exercise you should remove all leading and trailing whitespace. So that inputs such as:\n",
    "\n",
    "'  space here'  and 'space here      '\n",
    "both become:\n",
    "\n",
    "'here space'"
   ]
  },
  {
   "cell_type": "markdown",
   "id": "5456d122-3d4f-422a-9373-b5370a34fa4d",
   "metadata": {},
   "source": [
    "Solution\n",
    "We could take advantage of Python's abilities and solve the problem with the use of split() and some slicing or use of reversed:"
   ]
  },
  {
   "cell_type": "code",
   "execution_count": 3,
   "id": "7bf58567-8df0-4f18-ab2a-8070d64b4f50",
   "metadata": {},
   "outputs": [
    {
     "data": {
      "text/plain": [
       "'go? to ready you are John, Hi'"
      ]
     },
     "execution_count": 3,
     "metadata": {},
     "output_type": "execute_result"
    }
   ],
   "source": [
    "def rec_word(s):\n",
    "    return \" \".join(reversed(s.split()))\n",
    "rec_word('Hi John,   are you ready to go?')"
   ]
  },
  {
   "cell_type": "code",
   "execution_count": 5,
   "id": "15c9b02a-e829-4822-bd55-eb4692650401",
   "metadata": {},
   "outputs": [
    {
     "data": {
      "text/plain": [
       "'go? to ready you are John, Hi'"
      ]
     },
     "execution_count": 5,
     "metadata": {},
     "output_type": "execute_result"
    }
   ],
   "source": [
    "def rec_word1(s):\n",
    "    return \" \".join(s.split()[::-1])\n",
    "rec_word1('Hi John,   are you ready to go?')"
   ]
  },
  {
   "cell_type": "markdown",
   "id": "6034b61f-9fbc-4241-be2a-01a9307ed3e2",
   "metadata": {},
   "source": [
    "# basic algorithm"
   ]
  },
  {
   "cell_type": "code",
   "execution_count": 7,
   "id": "8355202b-14fe-4c12-9aaa-f88335fbe0e0",
   "metadata": {},
   "outputs": [
    {
     "data": {
      "text/plain": [
       "'you are how John Hello'"
      ]
     },
     "execution_count": 7,
     "metadata": {},
     "output_type": "execute_result"
    }
   ],
   "source": [
    "from nose.tools import assert_equal\n",
    "\n",
    "def rec_word3(s):\n",
    "    word = []\n",
    "    n = len(s)\n",
    "    space = [' ']\n",
    "    i = 0\n",
    "    while i < n:\n",
    "        if s[i] not in space:\n",
    "            word_start = i\n",
    "            while i < n and s[i] not in space:\n",
    "                i += 1\n",
    "            word.append(s[word_start:i])\n",
    "        i += 1\n",
    "    return \" \".join(reversed(word))\n",
    "\n",
    "class ReversalTest(object):\n",
    "    \n",
    "    def test(self, sol):\n",
    "        assert_equal(sol('    space before'), 'before space')\n",
    "        assert_equal(sol('space after     '), 'after space')\n",
    "        assert_equal(sol('   Hello John    how are you   '), 'you are how John Hello')\n",
    "        assert_equal(sol('1'), '1')\n",
    "        print(\"ALL TEST CASES PASSED\")\n",
    "        \n",
    "# Run and test\n",
    "t = ReversalTest()\n",
    "t.test(rec_word3)\n"
   ]
  },
  {
   "cell_type": "code",
   "execution_count": null,
   "id": "3b8ea8df-079b-4789-980d-5cb1517e4118",
   "metadata": {},
   "outputs": [],
   "source": [
    "\n",
    "Test Your Solution"
   ]
  }
 ],
 "metadata": {
  "kernelspec": {
   "display_name": "Python 3 (ipykernel)",
   "language": "python",
   "name": "python3"
  },
  "language_info": {
   "codemirror_mode": {
    "name": "ipython",
    "version": 3
   },
   "file_extension": ".py",
   "mimetype": "text/x-python",
   "name": "python",
   "nbconvert_exporter": "python",
   "pygments_lexer": "ipython3",
   "version": "3.12.2"
  }
 },
 "nbformat": 4,
 "nbformat_minor": 5
}
