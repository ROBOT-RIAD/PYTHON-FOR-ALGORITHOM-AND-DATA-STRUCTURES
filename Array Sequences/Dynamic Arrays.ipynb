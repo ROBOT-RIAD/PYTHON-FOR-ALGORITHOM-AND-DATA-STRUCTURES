{
 "cells": [
  {
   "cell_type": "markdown",
   "id": "2b44513c-5134-437d-ac41-ac5ab5ff15f3",
   "metadata": {},
   "source": [
    "# Dynamic Array\n"
   ]
  },
  {
   "cell_type": "code",
   "execution_count": 4,
   "id": "1efaad9a-331b-4d21-84bf-67d873b68d74",
   "metadata": {},
   "outputs": [
    {
     "name": "stdout",
     "output_type": "stream",
     "text": [
      "length:   0; size :   56\n",
      "length:   1; size :   88\n",
      "length:   2; size :   88\n",
      "length:   3; size :   88\n",
      "length:   4; size :   88\n",
      "length:   5; size :  120\n",
      "length:   6; size :  120\n",
      "length:   7; size :  120\n",
      "length:   8; size :  120\n",
      "length:   9; size :  184\n",
      "length:  10; size :  184\n",
      "length:  11; size :  184\n",
      "length:  12; size :  184\n",
      "length:  13; size :  184\n",
      "length:  14; size :  184\n",
      "length:  15; size :  184\n",
      "length:  16; size :  184\n",
      "length:  17; size :  248\n",
      "length:  18; size :  248\n",
      "length:  19; size :  248\n",
      "length:  20; size :  248\n",
      "length:  21; size :  248\n",
      "length:  22; size :  248\n",
      "length:  23; size :  248\n",
      "length:  24; size :  248\n",
      "length:  25; size :  312\n",
      "length:  26; size :  312\n",
      "length:  27; size :  312\n",
      "length:  28; size :  312\n",
      "length:  29; size :  312\n",
      "length:  30; size :  312\n",
      "length:  31; size :  312\n",
      "length:  32; size :  312\n",
      "length:  33; size :  376\n",
      "length:  34; size :  376\n",
      "length:  35; size :  376\n",
      "length:  36; size :  376\n",
      "length:  37; size :  376\n",
      "length:  38; size :  376\n",
      "length:  39; size :  376\n",
      "length:  40; size :  376\n",
      "length:  41; size :  472\n",
      "length:  42; size :  472\n",
      "length:  43; size :  472\n",
      "length:  44; size :  472\n",
      "length:  45; size :  472\n",
      "length:  46; size :  472\n",
      "length:  47; size :  472\n",
      "length:  48; size :  472\n",
      "length:  49; size :  472\n"
     ]
    }
   ],
   "source": [
    "import sys\n",
    "\n",
    "n = 10\n",
    "data = []\n",
    "\n",
    "for i in range(50):\n",
    "    a = len(data)\n",
    "    b = sys.getsizeof(data)\n",
    "    print('length: {0:3d}; size : {1:4d}'.format(a, b))\n",
    "    data.append(n)\n"
   ]
  },
  {
   "cell_type": "code",
   "execution_count": null,
   "id": "72957e30-2dc8-4640-aa2d-92bff898f16e",
   "metadata": {},
   "outputs": [],
   "source": []
  }
 ],
 "metadata": {
  "kernelspec": {
   "display_name": "Python 3 (ipykernel)",
   "language": "python",
   "name": "python3"
  },
  "language_info": {
   "codemirror_mode": {
    "name": "ipython",
    "version": 3
   },
   "file_extension": ".py",
   "mimetype": "text/x-python",
   "name": "python",
   "nbconvert_exporter": "python",
   "pygments_lexer": "ipython3",
   "version": "3.12.2"
  }
 },
 "nbformat": 4,
 "nbformat_minor": 5
}
