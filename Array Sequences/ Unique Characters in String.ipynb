{
 "cells": [
  {
   "cell_type": "markdown",
   "id": "46dafdca-6e8f-4805-8f1f-99ec6d2abdc5",
   "metadata": {},
   "source": [
    "\n",
    "# Unique Characters in String"
   ]
  },
  {
   "cell_type": "markdown",
   "id": "a48d73f2-c2fc-4184-943d-3428658e5b97",
   "metadata": {},
   "source": [
    "Problem\n",
    "Given a string,determine if it is compreised of all unique characters. For example, the string 'abcde' has all unique characters and should return True. The string 'aabcde' contains duplicate characters and should return false."
   ]
  },
  {
   "cell_type": "markdown",
   "id": "24cb4da2-1dee-4954-b06c-b20c979f4806",
   "metadata": {},
   "source": [
    "Solution\n",
    "\n",
    "We'll show two possible solutions, one using a built-in data structure and a built in function, and another using a built-in data structure but using a look-up method to check if the characters are unique."
   ]
  },
  {
   "cell_type": "markdown",
   "id": "592e590c-06f9-478c-893e-f97605498f81",
   "metadata": {},
   "source": [
    "# function method solution"
   ]
  },
  {
   "cell_type": "code",
   "execution_count": 1,
   "id": "eb6148f9-3b37-4be5-adf6-043315bfed2c",
   "metadata": {},
   "outputs": [],
   "source": [
    "def unic_char(s):\n",
    "    return len(set(s)) == len(s)"
   ]
  },
  {
   "cell_type": "code",
   "execution_count": 2,
   "id": "74ee038a-bf0d-4f86-937b-1a46b3f72700",
   "metadata": {},
   "outputs": [
    {
     "data": {
      "text/plain": [
       "False"
      ]
     },
     "execution_count": 2,
     "metadata": {},
     "output_type": "execute_result"
    }
   ],
   "source": [
    "def unic_char2(s):\n",
    "    char = set()\n",
    "    for l in s:\n",
    "        if l in char:\n",
    "            return False\n",
    "        else:\n",
    "            char.add(l)\n",
    "    return True\n",
    "\n",
    "unic_char2('goo')"
   ]
  },
  {
   "cell_type": "code",
   "execution_count": null,
   "id": "f6136825-2a02-4e7b-9856-cca497084065",
   "metadata": {},
   "outputs": [],
   "source": [
    "import unittest\n",
    "def unic_char2(s):\n",
    "    char = set()\n",
    "    for l in s:\n",
    "        if l in char:\n",
    "            return False\n",
    "        else:\n",
    "            char.add(l)\n",
    "    return True\n",
    "\n",
    "class TestUniqueChar(unittest.TestCase):\n",
    "    \n",
    "    def test_unic_char2(self):\n",
    "        self.assertTrue(unic_char2('abcdef'))  # All unique characters\n",
    "        self.assertFalse(unic_char2('hello'))  # 'l' is repeated\n",
    "        self.assertTrue(unic_char2(''))  # Empty string\n",
    "        self.assertTrue(unic_char2('a'))  # Single character\n",
    "        self.assertFalse(unic_char2('abac'))  # 'a' is repeated\n",
    "        self.assertTrue(unic_char2('12345'))  # All unique numeric characters\n",
    "        self.assertFalse(unic_char2('112345'))  # '1' is repeated\n",
    "\n",
    "if __name__ == '__main__':\n",
    "    unittest.main(argv=[''], verbosity=2, exit=False)\n"
   ]
  }
 ],
 "metadata": {
  "kernelspec": {
   "display_name": "Python 3 (ipykernel)",
   "language": "python",
   "name": "python3"
  },
  "language_info": {
   "codemirror_mode": {
    "name": "ipython",
    "version": 3
   },
   "file_extension": ".py",
   "mimetype": "text/x-python",
   "name": "python",
   "nbconvert_exporter": "python",
   "pygments_lexer": "ipython3",
   "version": "3.12.2"
  }
 },
 "nbformat": 4,
 "nbformat_minor": 5
}
