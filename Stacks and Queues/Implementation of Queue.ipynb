{
 "cells": [
  {
   "cell_type": "markdown",
   "id": "f64bca0d-01e4-48fd-9815-b50138d58a99",
   "metadata": {},
   "source": [
    "# Implementation of Queue\n",
    "\n",
    "In this lecture we will build on our previous understanding of Queues by implementing our own class of Queue!"
   ]
  },
  {
   "cell_type": "markdown",
   "id": "4f1e71e8-57f2-4591-b95e-bcfd4e21bb73",
   "metadata": {},
   "source": [
    "____\n",
    "## Queue Methods and Attributes\n",
    "\n",
    "\n",
    "Before we begin implementing our own queue, let's review the attribute and methods it will have:\n",
    "\n",
    "* Queue() creates a new queue that is empty. It needs no parameters and returns an empty queue.\n",
    "* enqueue(item) adds a new item to the rear of the queue. It needs the item and returns nothing.\n",
    "* dequeue() removes the front item from the queue. It needs no parameters and returns the item. The queue is modified.\n",
    "* isEmpty() tests to see whether the queue is empty. It needs no parameters and returns a boolean value.\n",
    "* size() returns the number of items in the queue. It needs no parameters and returns an integer.\n"
   ]
  },
  {
   "cell_type": "markdown",
   "id": "a3d8662d-5aab-4345-bd00-8bfccf106796",
   "metadata": {},
   "source": [
    "____\n",
    "## Queue Implementation"
   ]
  },
  {
   "cell_type": "code",
   "execution_count": 6,
   "id": "8aba9336-7b8d-4042-b932-dac5451840fa",
   "metadata": {},
   "outputs": [
    {
     "data": {
      "text/plain": [
       "1"
      ]
     },
     "execution_count": 6,
     "metadata": {},
     "output_type": "execute_result"
    }
   ],
   "source": [
    "class Queue:\n",
    "    def __init__(self):\n",
    "        self.list =[]\n",
    "    def isEmpty(self):\n",
    "        return self.list ==[]\n",
    "    def enqueue(self,val):\n",
    "        self.list.insert(0,val)\n",
    "    def dequeue(self):\n",
    "        return self.list.pop()\n",
    "    def size(self):\n",
    "        return len(self.list)\n",
    "q = Queue()\n",
    "q.size()\n",
    "q.isEmpty()\n",
    "q.enqueue(1)\n",
    "q.dequeue()"
   ]
  },
  {
   "cell_type": "code",
   "execution_count": null,
   "id": "1f44ed13-ad97-461a-bde9-3915dcd24c2f",
   "metadata": {},
   "outputs": [],
   "source": []
  }
 ],
 "metadata": {
  "kernelspec": {
   "display_name": "Python 3 (ipykernel)",
   "language": "python",
   "name": "python3"
  },
  "language_info": {
   "codemirror_mode": {
    "name": "ipython",
    "version": 3
   },
   "file_extension": ".py",
   "mimetype": "text/x-python",
   "name": "python",
   "nbconvert_exporter": "python",
   "pygments_lexer": "ipython3",
   "version": "3.12.2"
  }
 },
 "nbformat": 4,
 "nbformat_minor": 5
}
