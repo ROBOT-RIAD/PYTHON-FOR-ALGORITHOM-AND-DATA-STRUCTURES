{
 "cells": [
  {
   "cell_type": "markdown",
   "id": "b9069776-5fc7-4d1e-956d-cc0dde305000",
   "metadata": {},
   "source": [
    "# Balanced Parentheses Check - SOLUTION\n",
    "\n",
    "## Problem Statement\n",
    "\n",
    "Given a string of opening and closing parentheses, check whether it’s balanced. We have 3 types of parentheses: round brackets: (), square brackets: [], and curly brackets: {}. Assume that the string doesn’t contain any other character than these, no spaces words or numbers. As a reminder, balanced parentheses require every opening parenthesis to be closed in the reverse order opened. For example ‘([])’ is balanced but ‘([)]’ is not. \n",
    "\n",
    "\n",
    "You can assume the input string has no spaces.\n",
    "\n",
    "## Solution\n",
    "\n",
    "This is a very common interview question and is one of the main ways to check your knowledge of using Stacks! We will start our solution logic as such:\n",
    "\n",
    "First we will scan the string from left to right, and every time we see an opening parenthesis we push it to a stack, because we want the last opening parenthesis to be closed first. (Remember the FILO structure of a stack!)\n",
    "\n",
    "Then, when we see a closing parenthesis we check whether the last opened one is the corresponding closing match, by popping an element from the stack. If it’s a valid match, then we proceed forward, if not return false. \n",
    "\n",
    "Or if the stack is empty we also return false, because there’s no opening parenthesis associated with this closing one. In the end, we also check whether the stack is empty. If so, we return true, otherwise return false because there were some opened parenthesis that were not closed. \n",
    "\n",
    "Here's an example solution:"
   ]
  },
  {
   "cell_type": "code",
   "execution_count": 2,
   "id": "a323ff17-157a-4213-a49e-8e896ae31f7b",
   "metadata": {},
   "outputs": [
    {
     "data": {
      "text/plain": [
       "True"
      ]
     },
     "execution_count": 2,
     "metadata": {},
     "output_type": "execute_result"
    }
   ],
   "source": [
    "def balance_check(s):\n",
    "    if len(s)%2!=0:\n",
    "        return False\n",
    "    opening = set('({[')\n",
    "    matches = set([ ('(',')'), ('[',']'), ('{','}') ]) \n",
    "    stack = []\n",
    "    for paren in s:\n",
    "        if paren in opening:\n",
    "            stack.append(paren)\n",
    "        else:\n",
    "            if len(stack) == 0:\n",
    "                return False\n",
    "            last_open = stack.pop()\n",
    "            if (last_open,paren) not in matches:\n",
    "                return False\n",
    "    return len(stack) == 0\n",
    "    \n",
    "balance_check('[]')    \n",
    "balance_check('[](){([[[]]])}')"
   ]
  },
  {
   "cell_type": "markdown",
   "id": "f7ba16a8-a177-4246-b62b-21e8c7d9c85d",
   "metadata": {},
   "source": [
    "# test solution"
   ]
  },
  {
   "cell_type": "code",
   "execution_count": 4,
   "id": "441deff0-eac4-4b0b-9f66-42e653d263ac",
   "metadata": {},
   "outputs": [
    {
     "name": "stderr",
     "output_type": "stream",
     "text": [
      ".\n",
      "----------------------------------------------------------------------\n",
      "Ran 1 test in 0.002s\n",
      "\n",
      "OK\n"
     ]
    }
   ],
   "source": [
    "import unittest\n",
    "\n",
    "def balance_check(s):\n",
    "    if len(s) % 2 != 0:\n",
    "        return False\n",
    "    opening = set('({[')\n",
    "    matches = set([('(', ')'), ('[', ']'), ('{', '}')])\n",
    "    stack = []\n",
    "    for paren in s:\n",
    "        if paren in opening:\n",
    "            stack.append(paren)\n",
    "        else:\n",
    "            if len(stack) == 0:\n",
    "                return False\n",
    "            last_open = stack.pop()\n",
    "            if (last_open, paren) not in matches:\n",
    "                return False\n",
    "    return len(stack) == 0\n",
    "\n",
    "class TestBalanceCheck(unittest.TestCase):\n",
    "    \n",
    "    def test_cases(self):\n",
    "        self.assertEqual(balance_check('[](){([[[]]])}('), False)\n",
    "        self.assertEqual(balance_check('[{{{(())}}}]((()))'), True)\n",
    "        self.assertEqual(balance_check('[[[]])]'), False)\n",
    "        \n",
    "if __name__ == '__main__':\n",
    "    unittest.main(argv=[''], exit=False)\n"
   ]
  },
  {
   "cell_type": "code",
   "execution_count": null,
   "id": "b74cfb17-eeec-419b-878e-591a92e2f25f",
   "metadata": {},
   "outputs": [],
   "source": []
  }
 ],
 "metadata": {
  "kernelspec": {
   "display_name": "Python 3 (ipykernel)",
   "language": "python",
   "name": "python3"
  },
  "language_info": {
   "codemirror_mode": {
    "name": "ipython",
    "version": 3
   },
   "file_extension": ".py",
   "mimetype": "text/x-python",
   "name": "python",
   "nbconvert_exporter": "python",
   "pygments_lexer": "ipython3",
   "version": "3.12.2"
  }
 },
 "nbformat": 4,
 "nbformat_minor": 5
}
