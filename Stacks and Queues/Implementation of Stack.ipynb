{
 "cells": [
  {
   "cell_type": "markdown",
   "id": "9e020cad-1d64-4c22-807d-a01eea0df73e",
   "metadata": {},
   "source": [
    "# Implementation of Stack\n",
    "\n",
    "## Stack Attributes and Methods\n",
    "\n",
    "Before we implement our own Stack class, let's review the properties and methods of a Stack.\n",
    "\n",
    "The stack abstract data type is defined by the following structure and operations. A stack is structured, as described above, as an ordered collection of items where items are added to and removed from the end called the “top.” Stacks are ordered LIFO. The stack operations are given below.\n",
    "\n",
    "* Stack() creates a new stack that is empty. It needs no parameters and returns an empty stack.\n",
    "* push(item) adds a new item to the top of the stack. It needs the item and returns nothing.\n",
    "* pop() removes the top item from the stack. It needs no parameters and returns the item. The stack is modified.\n",
    "* peek() returns the top item from the stack but does not remove it. It needs no parameters. The stack is not modified.\n",
    "* isEmpty() tests to see whether the stack is empty. It needs no parameters and returns a boolean value.\n",
    "* size() returns the number of items on the stack. It needs no parameters and returns an integer."
   ]
  },
  {
   "cell_type": "markdown",
   "id": "f3546dc4-c8d8-411f-87ba-9c21c8c4a54d",
   "metadata": {},
   "source": [
    "____\n",
    "\n",
    "## Stack Implementation"
   ]
  },
  {
   "cell_type": "code",
   "execution_count": 3,
   "id": "304650d3-7c11-4cc1-b614-9f1047cba94c",
   "metadata": {},
   "outputs": [
    {
     "name": "stdout",
     "output_type": "stream",
     "text": [
      "True\n"
     ]
    },
    {
     "data": {
      "text/plain": [
       "False"
      ]
     },
     "execution_count": 3,
     "metadata": {},
     "output_type": "execute_result"
    }
   ],
   "source": [
    "class Stack:\n",
    "    def __init__(self):\n",
    "        self.list=[]\n",
    "    def isEmpty(self):\n",
    "        return self.list ==[]\n",
    "    def push(self,val):\n",
    "        self.list.append(val)\n",
    "    def pop(self):\n",
    "        return self.list.pop()\n",
    "    def peek(self):\n",
    "        return self.list[len(self.list)-1]\n",
    "    def size(self):\n",
    "        return len(self.list)\n",
    "\n",
    "s = Stack()\n",
    "print(s.isEmpty())    # True, stack is empty initially\n",
    "s.push(1)\n",
    "s.push('two')\n",
    "print(s.peek())       # 'two', as it is the element at the top of the stack\n",
    "s.push(True)\n",
    "print(s.size())       # 3, as there are three elements in the stack\n",
    "print(s.isEmpty())    # False, stack is not empty\n",
    "print(s.pop())        # True, removes and returns the top element\n",
    "print(s.size())       # 2, as one element has been removed\n",
    "print(s.isEmpty())    # False, stack still has elements\n"
   ]
  },
  {
   "cell_type": "code",
   "execution_count": null,
   "id": "504a764d-2872-4940-b9d0-cbcfedc60592",
   "metadata": {},
   "outputs": [],
   "source": []
  }
 ],
 "metadata": {
  "kernelspec": {
   "display_name": "Python 3 (ipykernel)",
   "language": "python",
   "name": "python3"
  },
  "language_info": {
   "codemirror_mode": {
    "name": "ipython",
    "version": 3
   },
   "file_extension": ".py",
   "mimetype": "text/x-python",
   "name": "python",
   "nbconvert_exporter": "python",
   "pygments_lexer": "ipython3",
   "version": "3.12.2"
  }
 },
 "nbformat": 4,
 "nbformat_minor": 5
}
